{
 "cells": [
  {
   "cell_type": "markdown",
   "metadata": {},
   "source": [
    "# Control Flow Program. Module 3\n",
    "\n",
    "## Boolean sample"
   ]
  },
  {
   "cell_type": "code",
   "execution_count": 2,
   "metadata": {},
   "outputs": [
    {
     "name": "stdout",
     "output_type": "stream",
     "text": [
      "True\n",
      "True\n",
      "True\n",
      "True\n",
      "True\n",
      "False\n",
      "False\n",
      "False\n",
      "False\n",
      "False\n",
      "False\n",
      "True\n",
      "True\n",
      "True\n",
      "True\n",
      "False\n"
     ]
    }
   ],
   "source": [
    "def lie_detector(arg):\n",
    "    if(arg):\n",
    "        print(\"True\")\n",
    "    else:\n",
    "        print(\"False\")\n",
    "\n",
    "lie_detector(True)          \n",
    "lie_detector(5)             \n",
    "lie_detector(\"False\")       \n",
    "lie_detector([1,2,3])       \n",
    "lie_detector(lie_detector)  \n",
    "\n",
    "lie_detector(False)         \n",
    "lie_detector(None)          \n",
    "lie_detector(0)             \n",
    "lie_detector(\"\")            \n",
    "lie_detector([])            \n",
    "lie_detector(not True)      \n",
    "\n",
    "lie_detector( 3 > 2 and 3 <5) \n",
    "lie_detector( \"abc\" == \"abc\") \n",
    "\n",
    "a = [1]; b = [1]; c = [1, -100]; d = [-1, 100]\n",
    "lie_detector(a == b)    \n",
    "lie_detector(c > a)     \n",
    "lie_detector(d > a)     \n"
   ]
  },
  {
   "cell_type": "markdown",
   "metadata": {},
   "source": [
    "## if else sample"
   ]
  },
  {
   "cell_type": "code",
   "execution_count": 3,
   "metadata": {},
   "outputs": [
    {
     "name": "stdout",
     "output_type": "stream",
     "text": [
      "\n",
      "*** Age adviser. ***\n",
      "\n",
      "Enter your age:\n",
      "29\n",
      "Time to buy house, yacht, airplane\n"
     ]
    }
   ],
   "source": [
    "print(\"\\n*** Age adviser. ***\\n\")\n",
    "\n",
    "print(\"Enter your age:\")\n",
    "age = int(input())\n",
    "\n",
    "if age < 0:\n",
    "\tprint(\"Please wate for you be borned\")\n",
    "elif age < 4:\n",
    "\tprint(\"Hello baby! It is time to sleep!\")\n",
    "elif age < 12:\n",
    "\tprint(\"It is time to learn Python!\")\n",
    "elif age < 20:\n",
    "\tprint(\"Your still are not senior programer? Why?\")\n",
    "elif age < 40:\n",
    "\tprint(\"Time to buy house, yacht, airplane\")\n",
    "elif age < 80:\n",
    "\tprint(\"Do you plan to build submarine or space shuttle?\")\n",
    "elif age < 120:\n",
    "\tprint(\"It is time to refresh your Python knowlage\")\n",
    "else:\n",
    "\tprint(\"Are you tortoise?\")\n"
   ]
  },
  {
   "cell_type": "markdown",
   "metadata": {},
   "source": [
    "## While sample"
   ]
  },
  {
   "cell_type": "code",
   "execution_count": 4,
   "metadata": {},
   "outputs": [
    {
     "name": "stdout",
     "output_type": "stream",
     "text": [
      "\n",
      "*** Test your patience ***\n",
      "\n",
      "Your patience level = 0.  Continue?[n - no]3\n",
      "Your patience level = 1.  Continue?[n - no]2\n",
      "Your patience level = 2.  Continue?[n - no]2\n",
      "Your patience level = 3.  Continue?[n - no]0\n",
      "Your patience level = 4.  Continue?[n - no]N\n"
     ]
    }
   ],
   "source": [
    "print(\"\\n*** Test your patience ***\\n\")\n",
    "\n",
    "level = 0\n",
    "answer = 'Y'\n",
    "\n",
    "while answer.upper() != 'N':\n",
    "    print(f\"Your patience level = {level}.  Continue?[n - no]\",end = \"\")\n",
    "    level += 1\n",
    "    answer = input()\n"
   ]
  },
  {
   "cell_type": "markdown",
   "metadata": {},
   "source": [
    "## For loop sample"
   ]
  },
  {
   "cell_type": "code",
   "execution_count": 5,
   "metadata": {},
   "outputs": [
    {
     "name": "stdout",
     "output_type": "stream",
     "text": [
      "\n",
      "*** Output names that started from 'J' from the list  ***\n",
      "\n",
      "Jack\n",
      "John\n",
      "Joe\n",
      "Jake\n",
      "James\n",
      "Joseph\n",
      "Jacob\n"
     ]
    }
   ],
   "source": [
    "print(\"\\n*** Output names that started from 'J' from the list  ***\\n\")\n",
    "\n",
    "names = set([\n",
    "'Oliver','Jake','Noah','James','Jack','Connor','Liam','John',\n",
    "'Harry','Callum','Mason','Robert','Jacob','Jacob','Jacob','Michael',\n",
    "'Charlie','Kyle','William','William','Thomas','Joe','Ethan','David',\n",
    "'George','Reece','Michael','Richard','Oscar','Rhys','Alexander','Joseph',\n",
    " 'James','Charlie','James','Charles','William','Damian','Daniel','Thomas'\n",
    "])\n",
    "\n",
    "for name in names:\n",
    "\tif name[0] == 'J':\n",
    "\t\tprint(name)\n"
   ]
  },
  {
   "cell_type": "markdown",
   "metadata": {},
   "source": [
    "## Nested loop sample"
   ]
  },
  {
   "cell_type": "code",
   "execution_count": 6,
   "metadata": {},
   "outputs": [
    {
     "name": "stdout",
     "output_type": "stream",
     "text": [
      "\n",
      "*** Matrix example ***\n",
      "\n",
      "11 12 13 \n",
      "21 22 23 \n",
      "31 32 33 \n",
      "Central element: 22\n"
     ]
    }
   ],
   "source": [
    "print (\"\\n*** Matrix example ***\\n\")\n",
    "\n",
    "matrix = [[11,12,13],[21,22,23],[31,32,33]]\n",
    "\n",
    "for line in matrix:\n",
    "    for elem in line:\n",
    "        print (str(elem)+\" \",end = '')\n",
    "    print(\"\")\n",
    "\n",
    "print(\"Central element:\", matrix[1][1]);\n"
   ]
  },
  {
   "cell_type": "markdown",
   "metadata": {},
   "source": [
    "## Else with loop sample"
   ]
  },
  {
   "cell_type": "code",
   "execution_count": 7,
   "metadata": {},
   "outputs": [
    {
     "name": "stdout",
     "output_type": "stream",
     "text": [
      "\n",
      "*** Find if gas mixture is danger using loop-else  ***\n",
      "\n",
      "=== hydrogen helium nitrogen ===\n",
      ">>>>> hydrogen\n",
      ">>>>> helium\n",
      ">>>>> nitrogen\n",
      "Mixture is not danger!\n",
      "=== oxygen hydrogen nitrogen ===\n",
      ">>>>> oxygen\n",
      ">>>>> hydrogen\n",
      "Danger mixture!\n",
      "=== oxygen hydrogen nitrogen ===\n",
      ">>>>> oxygen\n",
      ">>>>> hydrogen\n",
      "Danger mixture!\n"
     ]
    }
   ],
   "source": [
    "print(\"\\n*** Find if gas mixture is danger using loop-else  ***\\n\")\n",
    "\n",
    "def print_danger_mixture (mixture):\n",
    "    bOxigen = False\n",
    "    bHidrogen = False\n",
    "    words = mixture.split(\" \")\n",
    "    for gas in words:\n",
    "        print(\">>>>> \" +gas)\n",
    "        bOxigen = (gas == \"oxygen\") or bOxigen\n",
    "        bHidrogen = (gas == \"hydrogen\") or bHidrogen\n",
    "        if bOxigen and bHidrogen:\n",
    "            print(\"Danger mixture!\")\n",
    "            break\n",
    "    else:\n",
    "        print(\"Mixture is not danger!\")\n",
    "      \n",
    "mixtures = [\"hydrogen helium nitrogen\",\"oxygen hydrogen nitrogen\",\"oxygen hydrogen nitrogen\"]\n",
    "for mix in mixtures:\n",
    "    print(\"=== \" + mix + \" ===\")\n",
    "    print_danger_mixture (mix)\n"
   ]
  },
  {
   "cell_type": "markdown",
   "metadata": {},
   "source": [
    "## Buit-in functions sample"
   ]
  },
  {
   "cell_type": "code",
   "execution_count": 8,
   "metadata": {},
   "outputs": [
    {
     "name": "stdout",
     "output_type": "stream",
     "text": [
      "\n",
      "*** Multiplication table ***\n",
      "\n",
      "  1!   1   2   3   4   5   6   7   8   9  10\n",
      "############################################\n",
      "  2!   2   4   6   8  10  12  14  16  18  20\n",
      "  3!   3   6   9  12  15  18  21  24  27  30\n",
      "  4!   4   8  12  16  20  24  28  32  36  40\n",
      "  5!   5  10  15  20  25  30  35  40  45  50\n",
      "  6!   6  12  18  24  30  36  42  48  54  60\n",
      "  7!   7  14  21  28  35  42  49  56  63  70\n",
      "  8!   8  16  24  32  40  48  56  64  72  80\n",
      "  9!   9  18  27  36  45  54  63  72  81  90\n",
      " 10!  10  20  30  40  50  60  70  80  90 100\n"
     ]
    }
   ],
   "source": [
    "print(\"\\n*** Multiplication table ***\\n\")\n",
    "\n",
    "for i in range(1,11):\n",
    "    print(\"{:3}!\".format(i),end=\"\")\n",
    "    for j in range(1,11):\n",
    "        print(\"{:4}\".format(i*j),end=\"\")\n",
    "    if i==1:\n",
    "        print(\"\\n{:#<44}\".format(\"\"),end=\"\")\n",
    "    print(\"\")\n"
   ]
  },
  {
   "cell_type": "markdown",
   "metadata": {},
   "source": [
    "## Exercise 4\n",
    "\n",
    "### Part 1\n",
    "* Having a = 3, b =‘test’, c =[1,2,3] , d = ‘None’, e =None , f =0, what will be the values for the following operations:\n",
    "* a or b; a and b; a and c; a and d; b or d; a and e; a and f\n",
    "\n",
    "Your program should be print:\n",
    "\n",
    "> 3\n",
    "\n",
    "> test\n",
    "\n",
    "> [1, 2, 3]\n",
    "\n",
    "> test\n",
    "\n",
    "> None\n",
    "\n",
    "> 0\n"
   ]
  },
  {
   "cell_type": "code",
   "execution_count": 15,
   "metadata": {},
   "outputs": [],
   "source": [
    "# type your solution here. You can remove this comment"
   ]
  },
  {
   "cell_type": "markdown",
   "metadata": {},
   "source": [
    "\n",
    "### Part 2\n",
    "* Create a program that sets a value to a variable. It should print ‘Yes’ if the variable is number and the number is greater than 5. Prints ‘String’ if the variable is string. Prints ‘No’ if the variable is number and less than 5. Prints ‘other’ if the variable is nor string nor number. Don’t forget that floats are also numbers.\n",
    "* You not need use *input*, create variable directly! For type checking you can use *type()* function in if expression and compare with *int*, *string* or other types"
   ]
  },
  {
   "cell_type": "code",
   "execution_count": 16,
   "metadata": {},
   "outputs": [],
   "source": [
    "# type your solution here. You can remove this comment"
   ]
  },
  {
   "cell_type": "markdown",
   "metadata": {},
   "source": [
    "\n",
    "### Part 3\n",
    "* Having list l1 from “Data Structures”, print each element of the list on a line. Use for with range, enumerate and zip(x,y) functions. This function pack to tuple each element from x list and y list. For index you can use range() functions. First param - start index, second parameter - end index (not inclusive!)\n",
    "* Using while, print all the even values between 5 and 47.\n",
    "* Update program above to skip values 20, 24, 36. \n",
    "\n",
    "Your program should be print:\n",
    "\n",
    "> (1, 'abcd')\n",
    "> (2, 786)\n",
    "> (3, 2.23)\n",
    "> (4, 'john')\n",
    "\n",
    "> 6\n",
    "> 8\n",
    "> ...\n",
    "> 44\n",
    "> 46\n",
    "\n",
    "> 6\n",
    "> 8\n",
    "> ...\n",
    "> 22\n",
    "> 26\n",
    "> ...\n",
    "> 34\n",
    "> 38\n",
    "> 40\n",
    "> 42\n",
    "> 44\n",
    "> 46"
   ]
  },
  {
   "cell_type": "code",
   "execution_count": 23,
   "metadata": {},
   "outputs": [],
   "source": [
    "# type your solution here. You can remove this comment"
   ]
  },
  {
   "cell_type": "markdown",
   "metadata": {},
   "source": [
    "## Exercise 5\n",
    "\n",
    "Please replace some bad words in the string to 'xxx' symbols\n",
    "\n",
    "For example, for string \"this is bad and bug words\" with *bad* and *bug* bad words should be print **this is xxx and xxx words***\n",
    "\n",
    "You can use operator for\n",
    "\n",
    "**for** *currentWords* **in** *listWithBadWords* **:**\n",
    " \n",
    " *operatotors here*\n",
    " \n",
    "You can use replace functions:\n",
    " *str* = *str.* **replace(** *old*, *new* **)**\n",
    " "
   ]
  },
  {
   "cell_type": "code",
   "execution_count": 24,
   "metadata": {},
   "outputs": [],
   "source": [
    "# type your solution here. You can remove this comment"
   ]
  }
 ],
 "metadata": {
  "kernelspec": {
   "display_name": "Python 3",
   "language": "python",
   "name": "python3"
  },
  "language_info": {
   "codemirror_mode": {
    "name": "ipython",
    "version": 3
   },
   "file_extension": ".py",
   "mimetype": "text/x-python",
   "name": "python",
   "nbconvert_exporter": "python",
   "pygments_lexer": "ipython3",
   "version": "3.8.8"
  }
 },
 "nbformat": 4,
 "nbformat_minor": 2
}
