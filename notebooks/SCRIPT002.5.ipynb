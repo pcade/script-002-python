{
 "cells": [
  {
   "cell_type": "markdown",
   "metadata": {},
   "source": [
    "# Object-Oriented Programming and Exception Handling"
   ]
  },
  {
   "cell_type": "markdown",
   "metadata": {},
   "source": [
    "## Class and Object\n",
    "\n",
    "### Simple sample"
   ]
  },
  {
   "cell_type": "code",
   "execution_count": 11,
   "metadata": {},
   "outputs": [
    {
     "name": "stdout",
     "output_type": "stream",
     "text": [
      "Name :Emp1, Salary: 2000\n",
      "Name :Emp2, Salary: 5000\n",
      "Total Employee 2\n"
     ]
    }
   ],
   "source": [
    "class Employee:\n",
    "    \"\"\"Common base class for all employees\"\"\"\n",
    "    # class variable that counts number of employees\n",
    "    empCount = 0\n",
    "\n",
    "    def __init__(self, name, salary):\n",
    "          # object attributes\n",
    "        self.name = name\n",
    "        self.salary = salary\n",
    "          # increase the employee count\n",
    "        Employee.empCount += 1\n",
    "   \n",
    "   # method that displays the total number of employees\n",
    "    def displayCount(self):\n",
    "        print(\"Total Employee %d\".format(Employee.empCount))\n",
    "\n",
    "   # displays information about an Employee\n",
    "    def displayEmployee(self):\n",
    "        print (f\"Name :{self.name}, Salary: {self.salary}\")\n",
    "\n",
    "#\"This would create first object of Employee class\"\n",
    "emp1 = Employee(\"Emp1\", 2000)\n",
    "#\"This would create second object of Employee class\"\n",
    "emp2 = Employee(\"Emp2\", 5000)\n",
    "\n",
    "emp1.displayEmployee()\n",
    "emp2.displayEmployee()\n",
    "print(f\"Total Employee {Employee.empCount}\")\n",
    "\n"
   ]
  },
  {
   "cell_type": "markdown",
   "metadata": {},
   "source": [
    "### Encapsulation Sample"
   ]
  },
  {
   "cell_type": "code",
   "execution_count": 20,
   "metadata": {},
   "outputs": [
    {
     "name": "stdout",
     "output_type": "stream",
     "text": [
      "2\n",
      "2\n",
      "5\n",
      "4\n",
      "['_Foo__secretField', '__class__', '__delattr__', '__dict__', '__dir__', '__doc__', '__eq__', '__format__', '__ge__', '__getattribute__', '__gt__', '__hash__', '__init__', '__init_subclass__', '__le__', '__lt__', '__module__', '__ne__', '__new__', '__reduce__', '__reduce_ex__', '__repr__', '__secretField', '__setattr__', '__sizeof__', '__str__', '__subclasshook__', '__weakref__', 'out']\n"
     ]
    }
   ],
   "source": [
    "class Foo:\n",
    "    def __init__(self, v):\n",
    "        self.__secretField = v\n",
    "    def out(self):\n",
    "        print(self.__secretField)\n",
    "\n",
    "a = Foo(2)\n",
    "a.out()\n",
    "a.__secretField = 5\n",
    "a.out()\n",
    "print(a.__secretField)\n",
    "a._Foo__secretField = 4\n",
    "a.out()\n",
    "print(dir(a))"
   ]
  },
  {
   "cell_type": "markdown",
   "metadata": {},
   "source": [
    "* Please explain result of **dir(a)**"
   ]
  },
  {
   "attachments": {},
   "cell_type": "markdown",
   "metadata": {},
   "source": [
    "### Exercise 8\n",
    "\n",
    "* Implement DebitCard model. You must implementing following operation:\n",
    "    - authorize(pin) -> bool\n",
    "    - Withdrawal(money) ->  int\n",
    "    - GetBalance() -> int\n",
    "* These operations must be return correct result if user call authorize() before\n",
    "* Otherwise these function must be return -1\n",
    "* For example, following main code \n",
    "\n",
    "```\n",
    "x = DebitCard('Simple tester',1234,100)\n",
    "print(x.GetBalance())\n",
    "print(x.Withdrawal(10))\n",
    "print(x.Authorize(555))\n",
    "print(x.GetBalance())\n",
    "print(x.Withdrawal(10))\n",
    "print(x.Authorize(1234))\n",
    "print(x.GetBalance())\n",
    "print(x.Withdrawal(200))\n",
    "print(x.Withdrawal(50))\n",
    "print(x.GetBalance())\n",
    "\n",
    "```\n",
    "must be printed:\n",
    "\n",
    ">-1\n",
    "\n",
    ">-1\n",
    "\n",
    ">False\n",
    "\n",
    ">-1\n",
    "\n",
    ">-1\n",
    "\n",
    ">True\n",
    "\n",
    ">100\n",
    "\n",
    ">-1\n",
    "\n",
    ">50\n",
    "\n",
    ">50\n"
   ]
  },
  {
   "cell_type": "code",
   "execution_count": 37,
   "metadata": {},
   "outputs": [],
   "source": [
    "# type your solution here. You can remove this comment"
   ]
  },
  {
   "cell_type": "markdown",
   "metadata": {},
   "source": [
    "## Inheritance and polymorphism\n",
    "\n",
    "### Inheritance sample"
   ]
  },
  {
   "cell_type": "code",
   "execution_count": 51,
   "metadata": {},
   "outputs": [
    {
     "name": "stdout",
     "output_type": "stream",
     "text": [
      "derived ctor\n",
      "derivedField = 6\n"
     ]
    },
    {
     "ename": "AttributeError",
     "evalue": "'Bar' object has no attribute 'baseField'",
     "output_type": "error",
     "traceback": [
      "\u001b[1;31m---------------------------------------------------------------------------\u001b[0m",
      "\u001b[1;31mAttributeError\u001b[0m                            Traceback (most recent call last)",
      "\u001b[1;32m<ipython-input-51-3793e7c0f8f9>\u001b[0m in \u001b[0;36m<module>\u001b[1;34m\u001b[0m\n\u001b[0;32m     15\u001b[0m \u001b[1;33m\u001b[0m\u001b[0m\n\u001b[0;32m     16\u001b[0m \u001b[0mx\u001b[0m \u001b[1;33m=\u001b[0m \u001b[0mBar\u001b[0m\u001b[1;33m(\u001b[0m\u001b[1;36m4\u001b[0m\u001b[1;33m)\u001b[0m\u001b[1;33m\u001b[0m\u001b[1;33m\u001b[0m\u001b[0m\n\u001b[1;32m---> 17\u001b[1;33m \u001b[0mx\u001b[0m\u001b[1;33m.\u001b[0m\u001b[0mout\u001b[0m\u001b[1;33m(\u001b[0m\u001b[1;33m)\u001b[0m\u001b[1;33m\u001b[0m\u001b[1;33m\u001b[0m\u001b[0m\n\u001b[0m",
      "\u001b[1;32m<ipython-input-51-3793e7c0f8f9>\u001b[0m in \u001b[0;36mout\u001b[1;34m(self)\u001b[0m\n\u001b[0;32m     12\u001b[0m     \u001b[1;32mdef\u001b[0m \u001b[0mout\u001b[0m\u001b[1;33m(\u001b[0m\u001b[0mself\u001b[0m\u001b[1;33m)\u001b[0m\u001b[1;33m:\u001b[0m\u001b[1;33m\u001b[0m\u001b[1;33m\u001b[0m\u001b[0m\n\u001b[0;32m     13\u001b[0m         \u001b[0mprint\u001b[0m\u001b[1;33m(\u001b[0m\u001b[1;34mf\"derivedField = {self.derivedField}\"\u001b[0m\u001b[1;33m)\u001b[0m\u001b[1;33m\u001b[0m\u001b[1;33m\u001b[0m\u001b[0m\n\u001b[1;32m---> 14\u001b[1;33m         \u001b[0mprint\u001b[0m\u001b[1;33m(\u001b[0m\u001b[1;34mf\"baseField = {self.baseField}\"\u001b[0m\u001b[1;33m)\u001b[0m\u001b[1;33m\u001b[0m\u001b[1;33m\u001b[0m\u001b[0m\n\u001b[0m\u001b[0;32m     15\u001b[0m \u001b[1;33m\u001b[0m\u001b[0m\n\u001b[0;32m     16\u001b[0m \u001b[0mx\u001b[0m \u001b[1;33m=\u001b[0m \u001b[0mBar\u001b[0m\u001b[1;33m(\u001b[0m\u001b[1;36m4\u001b[0m\u001b[1;33m)\u001b[0m\u001b[1;33m\u001b[0m\u001b[1;33m\u001b[0m\u001b[0m\n",
      "\u001b[1;31mAttributeError\u001b[0m: 'Bar' object has no attribute 'baseField'"
     ]
    }
   ],
   "source": [
    "class Foo:\n",
    "    def __init__(self,v):\n",
    "        self.baseField = v\n",
    "        print('base ctor')\n",
    "    def out(self):\n",
    "        print(f\"baseField = {self.baseField}\")\n",
    "class Bar(Foo):\n",
    "    def __init__(self,v):\n",
    "        #placeholder for call base ctor\n",
    "        self.derivedField = v + 2\n",
    "        print('derived ctor')\n",
    "    def out(self):\n",
    "        print(f\"derivedField = {self.derivedField}\")\n",
    "        print(f\"baseField = {self.baseField}\")\n",
    "    \n",
    "x = Bar(4)\n",
    "x.out()"
   ]
  },
  {
   "cell_type": "markdown",
   "metadata": {},
   "source": [
    "* Explain, error 'Bar' object has no attribute 'baseField'\n",
    "* Insert expression for call base constructor to placeholder in derived constructor:\n",
    "    ```\n",
    "    super().__init__(v)\n",
    "    ```\n",
    "* remove second print and call out() method of superclass:\n",
    "    ```\n",
    "    super().out()\n",
    "    ```"
   ]
  },
  {
   "cell_type": "markdown",
   "metadata": {},
   "source": [
    "### Polymorphism Sample\n",
    "\n",
    "* This sample implement GoF pattern Composite"
   ]
  },
  {
   "cell_type": "code",
   "execution_count": 54,
   "metadata": {},
   "outputs": [
    {
     "name": "stdout",
     "output_type": "stream",
     "text": [
      "leaf tag 2\n",
      "leaf tag 3\n",
      "leaf tag 4\n",
      "leaf tag 5\n"
     ]
    }
   ],
   "source": [
    "class Composite:\n",
    "    def __init__(self):\n",
    "        self.__childs = []\n",
    "    def out(self):\n",
    "        for c in self.__childs:\n",
    "            c.out()\n",
    "    def add(self,arg):\n",
    "        self.__childs.append(arg)\n",
    "\n",
    "class Leaf:\n",
    "    def __init__(self,v):\n",
    "        self.__tag = v\n",
    "    def out(self):\n",
    "        print(f'leaf tag {self.__tag}')\n",
    "        \n",
    "root = Composite();\n",
    "root.add(Leaf(2));\n",
    "root.add(Leaf(3));\n",
    "container = Composite()\n",
    "container.add(Leaf(4))\n",
    "container.add(Leaf(5))\n",
    "root.add(container)\n",
    "\n",
    "root.out()\n",
    "    "
   ]
  },
  {
   "cell_type": "markdown",
   "metadata": {},
   "source": [
    "* **Attention!** This sample not use inheritance, because polymorphism embeded in Python!"
   ]
  },
  {
   "cell_type": "markdown",
   "metadata": {},
   "source": [
    "### Exercise 9\n",
    "\n",
    "Implement chess figure:\n",
    "* You should implement base class with checkStep method. This method is abstract (pass operator)\n",
    "* You should implement Horse, Elefant, and King figure with different implement of checkStep method\n",
    "* You should get from user figure name and  next step coordinates: e2, e4…\n",
    "* Your program should  be print new figure`s coordinates  or error, if step not possible\n",
    "* No need check other figures on deck or check figure`s color\n"
   ]
  },
  {
   "cell_type": "code",
   "execution_count": 55,
   "metadata": {},
   "outputs": [],
   "source": [
    "# type your solution here. You can remove this comment"
   ]
  },
  {
   "cell_type": "markdown",
   "metadata": {},
   "source": [
    "## Exception handling\n",
    "### Exception handling introduction sample"
   ]
  },
  {
   "cell_type": "code",
   "execution_count": 59,
   "metadata": {},
   "outputs": [
    {
     "ename": "ZeroDivisionError",
     "evalue": "division by zero",
     "output_type": "error",
     "traceback": [
      "\u001b[1;31m---------------------------------------------------------------------------\u001b[0m",
      "\u001b[1;31mZeroDivisionError\u001b[0m                         Traceback (most recent call last)",
      "\u001b[1;32m<ipython-input-59-e52bb61b04b9>\u001b[0m in \u001b[0;36m<module>\u001b[1;34m\u001b[0m\n\u001b[0;32m      1\u001b[0m \u001b[0ma\u001b[0m \u001b[1;33m=\u001b[0m \u001b[1;36m5\u001b[0m\u001b[1;33m\u001b[0m\u001b[1;33m\u001b[0m\u001b[0m\n\u001b[0;32m      2\u001b[0m \u001b[0mb\u001b[0m \u001b[1;33m=\u001b[0m \u001b[1;36m0\u001b[0m\u001b[1;33m\u001b[0m\u001b[1;33m\u001b[0m\u001b[0m\n\u001b[1;32m----> 3\u001b[1;33m \u001b[0mc\u001b[0m \u001b[1;33m=\u001b[0m \u001b[0ma\u001b[0m\u001b[1;33m/\u001b[0m\u001b[0mb\u001b[0m\u001b[1;33m\u001b[0m\u001b[1;33m\u001b[0m\u001b[0m\n\u001b[0m",
      "\u001b[1;31mZeroDivisionError\u001b[0m: division by zero"
     ]
    }
   ],
   "source": [
    "a = 5\n",
    "b = 0\n",
    "c = a/b"
   ]
  },
  {
   "cell_type": "code",
   "execution_count": 62,
   "metadata": {},
   "outputs": [
    {
     "name": "stdout",
     "output_type": "stream",
     "text": [
      "5.0\n",
      "division by zero\n"
     ]
    }
   ],
   "source": [
    "def makeError(x):\n",
    "    return 5/x\n",
    "try:\n",
    "    print(makeError(1))\n",
    "    print(makeError(0))\n",
    "    print(makeError(2))\n",
    "except ZeroDivisionError as e:\n",
    "    print(e)\n",
    "    "
   ]
  },
  {
   "cell_type": "code",
   "execution_count": 63,
   "metadata": {},
   "outputs": [
    {
     "name": "stdout",
     "output_type": "stream",
     "text": [
      "5.0\n",
      "division by zero\n",
      "finally\n"
     ]
    }
   ],
   "source": [
    "def makeError(x):\n",
    "    return 5/x\n",
    "try:\n",
    "    print(makeError(1))\n",
    "    print(makeError(0))\n",
    "    print(makeError(2))\n",
    "except ZeroDivisionError as e:\n",
    "    print(e)\n",
    "finally:\n",
    "    print('finally')"
   ]
  },
  {
   "cell_type": "code",
   "execution_count": 65,
   "metadata": {},
   "outputs": [
    {
     "name": "stdout",
     "output_type": "stream",
     "text": [
      "5.0\n",
      "2.5\n",
      "1.6666666666666667\n",
      "else\n",
      "finally\n"
     ]
    }
   ],
   "source": [
    "def makeError(x):\n",
    "    return 5/x\n",
    "try:\n",
    "    print(makeError(1))\n",
    "    print(makeError(2))\n",
    "    print(makeError(3))\n",
    "except ZeroDivisionError as e:\n",
    "    print(e)\n",
    "else:\n",
    "    print('else')\n",
    "finally:\n",
    "    print('finally')\n"
   ]
  },
  {
   "cell_type": "markdown",
   "metadata": {},
   "source": [
    "### Raise Sample"
   ]
  },
  {
   "cell_type": "code",
   "execution_count": 58,
   "metadata": {},
   "outputs": [
    {
     "name": "stdout",
     "output_type": "stream",
     "text": [
      "My exception occurred, value: 4\n"
     ]
    }
   ],
   "source": [
    "class MyError(Exception):\n",
    "    def __init__(self, value): \n",
    "        self.value = value \n",
    "    def __str__(self): \n",
    "        return repr(self.value) \n",
    "\n",
    "try: \n",
    "    raise MyError(2*2) \n",
    "except MyError as e:\n",
    "          print (f'My exception occurred, value: {e.value}') \n",
    "\n"
   ]
  },
  {
   "cell_type": "markdown",
   "metadata": {},
   "source": [
    "### Exception handling with Inheritance Sample\n",
    "\n",
    "**case 1**"
   ]
  },
  {
   "cell_type": "code",
   "execution_count": 8,
   "metadata": {},
   "outputs": [
    {
     "name": "stdout",
     "output_type": "stream",
     "text": [
      "ExtraException\n"
     ]
    }
   ],
   "source": [
    "class MyException(BaseException):\n",
    "    pass\n",
    "class SubException(MyException):\n",
    "    pass\n",
    "class ExtraSubException(SubException):\n",
    "    pass\n",
    "def makeError(x):\n",
    "    if x > 3:\n",
    "        raise ExtraSubException()\n",
    "    elif x < 0:\n",
    "        raise SubException()\n",
    "        \n",
    "try:\n",
    "    makeError(3)\n",
    "    makeError(4)\n",
    "except ExtraSubException:\n",
    "    print('ExtraException')\n",
    "except SubException:\n",
    "    print('SubException')\n",
    "else:\n",
    "    print('No exception')\n"
   ]
  },
  {
   "cell_type": "markdown",
   "metadata": {},
   "source": [
    "**case 2**"
   ]
  },
  {
   "cell_type": "code",
   "execution_count": 9,
   "metadata": {},
   "outputs": [
    {
     "name": "stdout",
     "output_type": "stream",
     "text": [
      "SubException\n"
     ]
    }
   ],
   "source": [
    "class MyException(BaseException):\n",
    "    pass\n",
    "class SubException(MyException):\n",
    "    pass\n",
    "class ExtraSubException(SubException):\n",
    "    pass\n",
    "def makeError(x):\n",
    "    if x > 3:\n",
    "        raise ExtraSubException()\n",
    "    elif x < 0:\n",
    "        raise SubException()\n",
    "        \n",
    "try:\n",
    "    makeError(3)\n",
    "    makeError(4)\n",
    "except SubException:\n",
    "    print('SubException')\n",
    "except ExtraSubException:\n",
    "    print('ExtraException')\n",
    "else:\n",
    "    print('No exception')\n"
   ]
  },
  {
   "cell_type": "markdown",
   "metadata": {},
   "source": [
    "### Excercise 10\n",
    "\n",
    "Implement DebitCard model. You must implement following operation:\n",
    "* authorize(pin)\n",
    "* Withdrawal(money) ->  int\n",
    "* GetBalance() -> int\n",
    "* You should create some classes for handling exception and implement it"
   ]
  },
  {
   "cell_type": "code",
   "execution_count": 18,
   "metadata": {},
   "outputs": [],
   "source": [
    "# type your solution here. You can remove this comment"
   ]
  }
 ],
 "metadata": {
  "kernelspec": {
   "display_name": "Python 3",
   "language": "python",
   "name": "python3"
  },
  "language_info": {
   "codemirror_mode": {
    "name": "ipython",
    "version": 3
   },
   "file_extension": ".py",
   "mimetype": "text/x-python",
   "name": "python",
   "nbconvert_exporter": "python",
   "pygments_lexer": "ipython3",
   "version": "3.7.3"
  }
 },
 "nbformat": 4,
 "nbformat_minor": 2
}
