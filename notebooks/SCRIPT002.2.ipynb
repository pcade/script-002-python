{
 "cells": [
  {
   "cell_type": "markdown",
   "metadata": {},
   "source": [
    "## Типы данных. Модуль 2"
   ]
  },
  {
   "cell_type": "markdown",
   "metadata": {},
   "source": [
    "## Пример значений"
   ]
  },
  {
   "cell_type": "code",
   "execution_count": 2,
   "metadata": {},
   "outputs": [
   ],
   "source": [
    "import math\n",
    "\n",
    "print (\"Python-3 пример long integer\")\n",
    "\n",
    "distance_to_Andromeda_galaxy_ly = 2537000 # световые годы\n",
    "light_speed = 299792458 # m/s\n",
    "distance_to_Andromeda_galaxy_m = distance_to_Andromeda_galaxy_ly * light_speed\n",
    "print(\"Расстояние до галактики Андромеда (метры) = \", distance_to_Andromeda_galaxy_m)\n",
    "\n",
    "print(\"Гyгол (googol) (10^100) = \", 10**100)\n",
    "\n",
    "print (\"\\nPython-3 float, числа с плавающей точкой \")\n",
    "\n",
    "f1 = math.pi\n",
    "print(\"f1 = \", f1)\n",
    "f2 = 2.1e-56\n",
    "print(\"f2 = \", f2)\n",
    "print(\"Упс! Нельзя сравнивать значения типа float на равно: '.1 + .1 + .1 == .3' - ложно!\\n\", .1 + .1 + .1 == .3) \n",
    "\n",
    "print (\"\\nPython-3 Примеры с комплексными числами\")\n",
    "\n",
    "x = complex(1, 2)\n",
    "print(\"x = \", x)\n",
    "print(\"x.real = \", x.real)\n",
    "print(\"x.imag = \", x.imag)\n",
    "\n"
   ]
  },
  {
   "cell_type": "markdown",
   "metadata": {},
   "source": [
    "## Примеры строковых значений"
   ]
  },
  {
   "cell_type": "code",
   "execution_count": 3,
   "metadata": {},
   "outputs": [
   ],
   "source": [
    "print(\"\\n*** Пример с кавычками. ***\\n\")\n",
    "\n",
    "str1 = \"символ 'a'. Строка str1 может содержать одинарные кавычки\"\n",
    "str2 = 'Имя \"Some\". Строка str2 может содержать двойные кавычки'\n",
    "str3 = \"\"\"  \n",
    "        Тройные кавычки.\n",
    "        Строка str3 может состоять\n",
    "        из нескольких линий и содержать другие кавычки\"\"\"\n",
    "\n",
    "print(str1)\n",
    "print(str2)\n",
    "print(str3)\n",
    "           \n",
    "print(\"\\n*** Пример специальных символов (escape characters) и сырых (raw) строк. ***\\n\")\n",
    "\n",
    "str1 = \"Путь до директории в файловой системе Windows: C:\\\\Program Files\\\\Git\"\n",
    "str2 = \"Строки и табуляция:\\n\\tСтрока 1\\n\\tСтрока 2\\n\\tСтрока 3\"\n",
    "str3 = r\"Никакой обработки специальных символов (escape characters), все печатается как есть: \\\\, \\n, \\t\"\n",
    "\n",
    "print(str1)\n",
    "print(str2)\n",
    "print(str3)\n",
    "\n",
    "print(\"\\n*** Форматированные строки (f-strings). Строки с заглушками***\\n\")\n",
    "\n",
    "name = \"Ильи\"\n",
    "age = 27\n",
    "print (f\"Возраст {name}: {age} лет\")\n",
    "\n"
   ]
  },
  {
   "cell_type": "markdown",
   "metadata": {},
   "source": [
    "## Пример форматирования строк"
   ]
  },
  {
   "cell_type": "code",
   "execution_count": 13,
   "metadata": {},
   "outputs": [
   ],
   "source": [
    "print('Форматирование с позиционными и именными аргументами')\n",
    "print('{} {}'.format('один', 'два')) \n",
    "print('{1} {0}'.format('один', 'два') )\n",
    "print('{} {}'.format(1, 2))\n",
    "print('{first_name} {last_name}'.format(last_name='Соло', first_name='Хан'))\n",
    " \n",
    "print('Добавить указанные символы')\n",
    "print('{:_<10}'.format('test'))\n",
    "print('{:_>10}'.format('test'))\n",
    "print('{:_^10}'.format('test'))\n",
    " \n",
    "print('Добавить специальное форматирование к именным аргументам')\n",
    "print('{result!s:_^20}'.format(result=(1, 2)))\n",
    "print('{result!r:_^20}'.format(result=(1, 2)))\n",
    "\n",
    "print('{result:_^ 20.2f}'.format(result=3.1415926))\n",
    "print('{result:_^ 20.2f}'.format(result=-3.1415926))\n"
   ]
  },
  {
   "cell_type": "markdown",
   "metadata": {},
   "source": [
    "## Использование оператора среза (slice operator)"
   ]
  },
  {
   "cell_type": "code",
   "execution_count": 4,
   "metadata": {},
   "outputs": [
   ],
   "source": [
    "# Python-3 Строки\n",
    "\n",
    "print(\"\\n*** Пример slice оператора. ***\\n\")\n",
    "\n",
    "str1 = \"123456789\"\n",
    "print('str1 = \"123456789\"')\n",
    "print(\"str1[1] = \", str1[1])\n",
    "print(\"Внимание: правая граница слайса должна указывать за пределы диапазона слайса!\")\n",
    "print(\"Подстрока str1[2:5] содержит цифры #2,#3,#4 (но не #5!)\")\n",
    "print(\"str1[2:5] = \", str1[2:5])\n",
    "print(\"str1[-2] = \", str1[-2])\n",
    "print(\"str1[3:] = \", str1[3:])\n",
    "print(\"str1[:3] = \", str1[:3])\n",
    "print(\"str1[:] = \", str1[:])\n",
    "\n",
    "print(\"\\n*** Пример слияния/объединения/конкатенации строк. ***\\n\")\n",
    "str1 = \"Хан\"\n",
    "str2 = \"Соло\"\n",
    "print( str1 + \" \" + str2 + \"\\n\")\n",
    "\n",
    "print(\"\\n*** Приведение типов. ***\\n\")\n",
    "bool_to_int = int(True)\n",
    "print(\"bool_to_int = \", bool_to_int)\n",
    "str_to_int = int(\"125\")\n",
    "print(\"str_to_int = \", str_to_int)\n",
    "float_to_str = str(\"27.5\")\n",
    "print(\"float_to_str = \" + float_to_str)\n",
    "\n",
    "print(\"\\n*** Исполнение инструкций из строки. ***\\n\")\n",
    "op =\"print('беда-беда')\"\n",
    "exec(op)\n"
   ]
  },
  {
   "cell_type": "markdown",
   "metadata": {},
   "source": [
    "## Упраждение 2\n",
    "\n",
    "**Пользователь вводит строку. Проверить является ли введенная строка полиндромом.**\n",
    "\n",
    "Используйте следующую строку для тестов:\n",
    "\n",
    "* \"god saw I was dog\"\n",
    "Результат: \"Палиндром\"\n",
    "* \"I like python\"\n",
    "Результат: \"Не палиндром\"\n",
    "\n",
    "Испозуем следующие операторы:\n",
    "```\n",
    "input(\"Введите строку> \")\n",
    "\n",
    "if выражение:\n",
    "    блок выполняется\n",
    "    если выражение\n",
    "    истинно\n",
    "else:\n",
    "    блок выполняется\n",
    "    если выражение\n",
    "    ложно\n",
    "    \n",
    "print(\"result\")\n",
    "```"
   ]
  },
  {
   "cell_type": "code",
   "execution_count": 39,
   "metadata": {},
   "outputs": [],
   "source": [
    "# Место для кода"
   ]
  },
  {
   "cell_type": "markdown",
   "metadata": {},
   "source": [
    "## Список (list)"
   ]
  },
  {
   "cell_type": "markdown",
   "metadata": {},
   "source": [
    "### Простой список (list)"
   ]
  },
  {
   "cell_type": "code",
   "execution_count": 40,
   "metadata": {},
   "outputs": [
   ],
   "source": [
    "\n",
    "print(\"\\n*** Операции со списком. ***\\n\")\n",
    "\n",
    "list1 = [1,4,3,2,5,6]\n",
    "n = len(list1)\n",
    "print(\"Колличество элементов списка = \", n ) \n",
    "print(\"Минимальный элемент списка = \", min(list1))\n",
    "print(\"Сумма всех элементов списка = \", sum(list1))\n",
    "print(\"Список в отсортированном порядке = \", sorted(list1))\n"
   ]
  },
  {
   "cell_type": "markdown",
   "metadata": {},
   "source": [
    "### Сравнение и объединение списков (list)"
   ]
  },
  {
   "cell_type": "code",
   "execution_count": 41,
   "metadata": {},
   "outputs": [
   ],
   "source": [
    "print(\"\\n*** Сравнение списков. ***\\n\")\n",
    "list1 = [1,2,3,4,5,6]\n",
    "list2 = [2,3,4,5,6,7]\n",
    "list3 = [2,3,4,5,0,0]\n",
    "list4 = [0,0,0,0,0,0,0] \n",
    "list5 = [1,1,100,1,1,1,1] \n",
    "list6 = [1,2,3,4,5,6,0]\n",
    "list7 = [[4,2],[3,4]] \n",
    "list8 = [[3],[1,0,0]]\n",
    "\n",
    "print(list2 > list1) # True\n",
    "print(list3 > list1) # True\n",
    "print(list4 > list1) # False\n",
    "print(list5 > list1) # False\n",
    "print(list6 > list1) # True\n",
    "print(list8 > list7) # False (recursive comparing) \n",
    "\n",
    "list_mix = [[\"b\"], [123]]\n",
    "# print(list_mix.sort()) # бросает исключение TypeError: '<' not supported between instances of 'int' and 'str'\n",
    "\n",
    "print(\"\\n*** Объединение (конкатенация) списков. ***\\n\")\n",
    "list8 = list1 + list5\n",
    "print(list8) \n",
    "\n",
    "print(\"\\n*** Сортировка списков. ***\\n\")\n",
    "print(sorted(list8)) # функция sorted() возврщает список\n",
    "list5.sort() # метод sort() не возвращает список\n",
    "print(list5)\n"
   ]
  },
  {
   "cell_type": "markdown",
   "metadata": {},
   "source": [
    "\n",
    "### Копирование и глубокое (deep copy) списков"
   ]
  },
  {
   "cell_type": "code",
   "execution_count": 43,
   "metadata": {},
   "outputs": [
   ],
   "source": [
    "import copy \n",
    "print(\"\\n*** list1=list2 не является копированием! ***\\n\")\n",
    "list1 = []\n",
    "list2 = [1,2,3,4]\n",
    "list1 = list2\n",
    "list2[1] = -1\n",
    "print(\"list1 = list2 копирование элементов не выполняется!\\nlist2 = \", list2)\n",
    "print(\"list1 = \", list1)\n",
    "\n",
    "print(\"\\n*** Неглубокое/поверхностное (Shallow) копирование копирует только один уровень! ***\\n\")\n",
    "list1 = []\n",
    "list2 = [1,[-1,-2,-3],2,3]\n",
    "list1 = list2.copy()\n",
    "list2.append(4)\n",
    "list2[0] = 0;\n",
    "print(\"list1 и list2 выглядят как независимые объекты. \\nlist2 = \", list2)\n",
    "print(\"list1 = \", list1)\n",
    "list2[1][1] = -10\n",
    "print(\"\\nУпс! Полного копирования не произошло, ссылки сохранены!\\nlist2 = \", list2)\n",
    "print(\"list1 = \", list1)\n",
    "\n",
    "print(\"\\n*** Подлинное глубокое/полное копирование (deep copy) ***\\n\")\n",
    "list1 = copy.deepcopy(list2)\n",
    "list2[1][1] = -100\n",
    "list2[0]=-10\n",
    "list2.append(-200)\n",
    "print(\"copy.deepcopy выполняет подлинное глубокое/полное копирование (deep copy).\\nlist2 = \", list2)\n",
    "print(\"list1 = \", list1)\n"
   ]
  },
  {
   "cell_type": "markdown",
   "metadata": {},
   "source": [
    "## Кортеж (Tuple)"
   ]
  },
  {
   "cell_type": "markdown",
   "metadata": {},
   "source": [
    "### Пример кортежей/туплов"
   ]
  },
  {
   "cell_type": "code",
   "execution_count": 44,
   "metadata": {},
   "outputs": [
   ],
   "source": [
    "print(\"\\n*** Простой кортеж ***\\n\")\n",
    "seasons = (\"зима\", \"весна\", \"лето\", \"осень\")\n",
    "print(\"Времена года как пример кортежей из реальной жизни: \", seasons)\n",
    "\n",
    "print(\"\\n*** Создать кортеж из списка ***\\n\")\n",
    "a, b = 3, 4\n",
    "c = tuple([a,b])\n",
    "print(c)\n",
    "\n",
    "print(\"\\n*** Функции могут вернуть кортеж, так функции возвращают множественные значения ***\\n\")\n",
    "def zero_coord():\n",
    "     return 0,0 \n",
    "zc = zero_coord()\n",
    "print(zc)\n",
    "\n",
    "print(\"\\n*** Кортеж может быть ключом словаря (dict) ***\\n\")\n",
    "half_life = {\t(\"уран\",235):7.04e8,\n",
    "\t(\"уран\",238):4.468e9,\n",
    "\t(\"плутоний\",239):2.41e4,\n",
    "\t(\"плутоний\",240):6500\n",
    "\t}\n",
    "print(\"Период полураспада урана-238 = \", half_life[(\"уран\",238)] )\n",
    "\n",
    "print(\"\\n*** Кортеж может хранить ссылку на изменяемые данные ***\\n\")\n",
    "tp = ([10],) # если не добавить запятую ',', то python воспримет это как integer в скобках\n",
    "print(\"Кортеж включает список. tp[0][0] = \", tp[0][0])\n",
    "tp[0][0] = -100\n",
    "print(\"Список в кортеже был изменен. tp[0][0] = \", tp[0][0])\n",
    "\t\n"
   ]
  },
  {
   "cell_type": "markdown",
   "metadata": {},
   "source": [
    "## Словари"
   ]
  },
  {
   "cell_type": "markdown",
   "metadata": {},
   "source": [
    "### Примеры словаря"
   ]
  },
  {
   "cell_type": "code",
   "execution_count": 46,
   "metadata": {},
   "outputs": [
   ],
   "source": [
    "d = dict() \n",
    "d['one'] = \"First\"\n",
    "d[2] = \"Second\"\n",
    "d[3] = 3\n",
    "print(d)\n",
    "compact_dict = {'one':'First',2:\"Second\",3:3}\n",
    "print(d.keys())\n",
    "print('dict has \\'one\\' key :', end='')\n",
    "print('one' in d)\n",
    "print('dict d does not have \\'First\\' key :', 'First' in d)\n",
    "print('one' in d)\n",
    "print(compact_dict.keys())\n",
    "print(d.values())\n",
    "print(compact_dict.values())\n",
    "\n"
   ]
  },
  {
   "cell_type": "markdown",
   "metadata": {},
   "source": [
    "### Цвета"
   ]
  },
  {
   "cell_type": "code",
   "execution_count": 47,
   "metadata": {},
   "outputs": [
   ],
   "source": [
    "colors = [\"red\",\"blue\",\"red\", \"cyan\", \"black\", \"blue\", \"red\", \n",
    "          \"red\", \"orange\", \"black\", \"cyan\", \"red\", \"pink\",\n",
    "          \"orange\", \"black\", \"cyan\", \"red\", \"pink\", \"blue\",\n",
    "          \"red\", \"green\", \"blue\", \"red\", \"green\", \"blue\", \n",
    "          \"blue\",\"red\", \"cyan\", \"black\", \"blue\", \"green\"]\n",
    "\n",
    "dc = {} # Словарь будет содержать пары в формате 'цвет: колличество'\n",
    "for cl in colors:\n",
    "    if dc.get(cl) == None:\n",
    "        dc[cl] = 1\n",
    "    else:\n",
    "        dc[cl] = dc[cl]+1\n",
    "\n",
    "print(dc)\t\n"
   ]
  },
  {
   "cell_type": "markdown",
   "metadata": {},
   "source": [
    "### Множества"
   ]
  },
  {
   "cell_type": "markdown",
   "metadata": {},
   "source": [
    "### Пример множеств"
   ]
  },
  {
   "cell_type": "code",
   "execution_count": 48,
   "metadata": {},
   "outputs": [
   ],
   "source": [
    "colors = [\"red\",\"blue\",\"red\", \"cyan\", \"black\", \"blue\", \"red\", \n",
    "          \"red\", \"orange\", \"black\", \"cyan\", \"red\", \"pink\",\n",
    "          \"orange\", \"black\", \"cyan\", \"red\", \"pink\", \"blue\",\n",
    "          \"red\", \"green\", \"blue\", \"red\", \"green\", \"blue\", \n",
    "          \"blue\",\"red\", \"cyan\", \"black\", \"blue\", \"green\"]\n",
    "\n",
    "unique_colors = set(colors)\n",
    "print(\"Уникальные цвета: \", unique_colors)\n",
    "print(\"Колличество уникальных цветов: \", len(unique_colors))\n"
   ]
  },
  {
   "cell_type": "markdown",
   "metadata": {},
   "source": [
    "## Упражнение 3"
   ]
  },
  {
   "cell_type": "markdown",
   "metadata": {},
   "source": [
    "* Создайте лист l1, который содержит элементы: 'abcd', 786 , 2.23, 'john', 70.2 \n",
    "* Напечатайте лист l1\n",
    "* Напечатате первый элемент\n",
    "* Напечатайте второй и третий элементы из списка l1\n",
    "* Продублируйте элементы списка l1 и напечатайте результат\n",
    "\n",
    "Результат должен выглядеть следующим образом:\n",
    "\n",
    "> ['abcd', 786, 2.23, 'john', 70.2]\n",
    "\n",
    ">abcd\n",
    "\n",
    ">[786, 2.23]\n",
    "\n",
    ">['abcd', 786, 2.23, 'john', 70.2, 'abcd', 786, 2.23, 'john', 70.2]\n"
   ]
  },
  {
   "cell_type": "code",
   "execution_count": 103,
   "metadata": {},
   "outputs": [],
   "source": [
    "# Место для кода"
   ]
  },
  {
   "cell_type": "markdown",
   "metadata": {},
   "source": [
    "* Создайте список l2, который содержит элементы: 'second', '123'\n",
    "* Создайте список l3, который содержит l1 и l2 в качестве элементов. Обновите значение элемента l1[1]. Проверье значения l3. \n",
    "* Создайте список l4, который содержит все элементы l2. Обновите значение элемента l2[0]. Проверье значения l4.\n",
    "\n",
    "Результат должен выглядеть следующим образом:\n",
    "\n",
    "> [['abcd', 786, 2.23, 'john', 70.2], ['second', '123']]\n",
    "\n",
    "> [['abcd', 999, 2.23, 'john', 70.2], ['second', '123']]\n",
    "\n",
    "> ['second', '123']\n",
    "\n",
    ">[555, '123']\n",
    "\n",
    ">['second', '123']"
   ]
  },
  {
   "cell_type": "code",
   "execution_count": 104,
   "metadata": {},
   "outputs": [],
   "source": [
    "# Место для кода"
   ]
  },
  {
   "cell_type": "markdown",
   "metadata": {},
   "source": [
    "* Создайте список l5 из 4 элементов 1,2,3,4. \n",
    "* При помощи slice оператора, обновите первые 2 элемента значениями '111' and '222'. \n",
    "* Вставтьте [7,7,7,7,7,7] после '111'\n",
    "* Поместите копию l5 в начало l5. \n",
    "* Очистите список l5\n",
    "* Создайте список l6, который содержит l1, l2, l5 в качестве элементво списка. Обновите первый элемент l1. Напечатайте l6\n",
    "* Отсортируйте и посчитайте элементы списков l1,l2,l3. \n",
    "\n",
    "Результат должен выглядеть следующим образом:\n",
    "\n",
    "> [1, 2, 3, 4]\n",
    "\n",
    "> [111, 222, 3, 4]\n",
    "\n",
    "> [111, [7, 7, 7, 7, 7, 7], 222, 3, 4]\n",
    "\n",
    "> [[111, [7, 7, 7, 7, 7, 7], 222, 3, 4], 111, [7, 7, 7, 7, 7, 7], 222, 3, 4]\n",
    "\n",
    "> [['abcd', 786, 2.23, 'john', 70.2], [555, '123'], [[111, [7, 7, 7, 7, 7, 7], 222, 3, 4], 111, [7, 7, 7, 7, 7, 7], 222, 3, 4]]\n",
    "\n",
    "> [[9999, 786, 2.23, 'john', 70.2], [555, '123'], [[111, [7, 7, 7, 7, 7, 7], 222, 3, 4], 111, [7, 7, 7, 7, 7, 7], 222, 3, 4]]\n",
    "\n",
    "\n",
    "> ---------------------------------------------------------------------------\n",
    "\n",
    ">TypeError                                 Traceback (most recent call last)\n",
    "\n",
    "> ...\n",
    "\n",
    "> TypeError: '<' not supported between instances of 'str' and 'float'\n",
    "\n",
    "* Пожалуйста объясните ошибку при сортировке l1\n"
   ]
  },
  {
   "cell_type": "code",
   "execution_count": 105,
   "metadata": {},
   "outputs": [],
   "source": [
    "# Место для кода"
   ]
  },
  {
   "cell_type": "markdown",
   "metadata": {},
   "source": [
    "* Создайте кортеж t1, содержащий: 'abcd', 786 , 2.23, 'john', 70.2\n",
    "* Обновите первый элемент кортежа t1. \n",
    "* Напечатайте колличество элементов кортежа. \n",
    "* Создайте кортеж t2 на базе элеметов l2. \n",
    "* Какой минимальный элемент кортежа t1? Можно ли отсортировать кортеж t1?\n",
    "\n",
    "Результат должен выглядеть следующим образом:\n",
    "\n",
    "> ('abcd', 786, 2.23, 'john', 70.2)\n",
    "\n",
    "> (999, 786, 2.23, 'john', 70.2)\n",
    "\n",
    "> 5\n",
    "> (555, '123')\n",
    "\n",
    "* Объясните почему нельзя получить минимальный элемент t1 и нельзя его отсортировать"
   ]
  },
  {
   "cell_type": "code",
   "execution_count": 101,
   "metadata": {},
   "outputs": [],
   "source": [
    "# Место для кода"
   ]
  },
  {
   "cell_type": "markdown",
   "metadata": {},
   "source": [
    "* Создайте словарь d1, содержащий элементы : 'one':'First',2:\"Second\",3:3\n",
    "* Напечатайте ключи словаря. Напечатайте значения словаря. \n",
    "* Можно ли отсортировать словарь?\n",
    "* Убедитесь, что d1 имеет ключ 'one'. Получите значение из d1 по ключу 'one'. Получите значение из d1 по ключу 'two' (не '2').\n",
    "* Создайте словарь d2 из ключей d1. Напечатайте d2.\n",
    "* Создайте словарь d3, где l1, t1 и d2 будут являться значениями, а имена переменных - ключами. \n",
    "\n",
    "Your program should be print:\n",
    "\n",
    "> {'one': 'First', 2: 'Second', 3: 3}\n",
    "\n",
    "> True\n",
    "\n",
    "> {'one': 0, 2: 0, 3: 0}\n",
    "\n",
    "> {'l1': [9999, 999, 2.23, 'john', 70.2], 't1': (999, 786, 2.23, 'john', 70.2), 'd2': {'one': 0, 2: 0, 3: 0}}"
   ]
  },
  {
   "cell_type": "code",
   "execution_count": 112,
   "metadata": {},
   "outputs": [],
   "source": [
    "# Место для кода"
   ]
  }
 ],
 "metadata": {
  "kernelspec": {
   "display_name": "Python 3",
   "language": "python",
   "name": "python3"
  },
  "language_info": {
   "codemirror_mode": {
    "name": "ipython",
    "version": 3
   },
   "file_extension": ".py",
   "mimetype": "text/x-python",
   "name": "python",
   "nbconvert_exporter": "python",
   "pygments_lexer": "ipython3",
   "version": "3.7.3"
  }
 },
 "nbformat": 4,
 "nbformat_minor": 2
}
