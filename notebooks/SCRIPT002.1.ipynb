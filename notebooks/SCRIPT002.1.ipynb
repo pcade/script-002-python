{
 "cells": [
  {
   "cell_type": "markdown",
   "metadata": {},
   "source": [
    "# Введение. Модуль 1"
   ]
  },
  {
   "cell_type": "code",
   "execution_count": 7,
   "metadata": {},
   "outputs": [],
   "source": [
    "# Напечатайте код из упражнения 1 ниже. Эту строку можно удалить, т.к. она является комментарием"
   ]
  },
  {
   "cell_type": "markdown",
   "metadata": {},
   "source": [
    "Программа должна напечатать: \n",
    "\n",
    "**40 -6.41886116991581 -9.581138830084189**"
   ]
  },
  {
   "cell_type": "markdown",
   "metadata": {},
   "source": [
    "## Пример использования идентификаторов и комментариев"
   ]
  },
  {
   "cell_type": "code",
   "execution_count": 10,
   "metadata": {},
   "outputs": [
   ],
   "source": [
    "# Python-3 Пример комментариев, кавычек и выражений\n",
    "\n",
    "str1 = \\\n",
    "\"\"\"Используем\n",
    "пример строки\n",
    "на несколько строк\"\"\"\n",
    "\n",
    "print(\n",
    "str1\n",
    ") # Выражения могут быть однострочными или многострочными\n",
    "\n",
    "str2 = '\\nМы можем использовать \"двойные\" кавычки внутри \\'одинарных кавычек\\' '  # '\\\\n' будет отображаться как '\\n'\n",
    "str3 = \"\\nа также однарные ' кавычки ' внутри двойных\\n\"\t\t\t\t\t\t\t# \\n - символ перевода строки\n",
    "print( str2 + \\\n",
    "str3) # Обратный слэш '\\' позволяет продолжить выражение\n",
    "\n",
    "print(\"Мы можем \", end = '')\n",
    "print(\"печатать слова на следующй print инструкции \", end = '')\n",
    "print(\", а на экране будет отображена одна строка\")\n",
    "\n",
    "a = 5; b = a**2; c = b+3; print(\"Несколько выражений на одной строке. c = \", c)\n",
    "\n",
    "print(r\"В сырые (raw) строки \\n печатается 'как есть', т.е. перевод строки не происходит\")\n"
   ]
  },
  {
   "cell_type": "code",
   "execution_count": null,
   "metadata": {},
   "outputs": [],
   "source": []
  }
 ],
 "metadata": {
  "kernelspec": {
   "display_name": "Python 3.10.7 ('venv310': venv)",
   "language": "python",
   "name": "python3"
  },
  "language_info": {
   "codemirror_mode": {
    "name": "ipython",
    "version": 3
   },
   "file_extension": ".py",
   "mimetype": "text/x-python",
   "name": "python",
   "nbconvert_exporter": "python",
   "pygments_lexer": "ipython3",
   "version": "3.10.7"
  },
  "vscode": {
   "interpreter": {
    "hash": "38e75ce933e579243472a492358115ffa3b0cc7ac9685c5e4afa3c08c0540864"
   }
  }
 },
 "nbformat": 4,
 "nbformat_minor": 2
}
